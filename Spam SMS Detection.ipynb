{
  "cells": [
    {
      "cell_type": "code",
      "execution_count": null,
      "metadata": {
        "colab": {
          "base_uri": "https://localhost:8080/"
        },
        "id": "Wk9cNDejkn4L",
        "outputId": "4f07c3ec-439c-4825-ef6a-2b0bb8c4ad40"
      },
      "outputs": [
        {
          "name": "stdout",
          "output_type": "stream",
          "text": [
            "predicted classes of test SMS messages\n",
            "['ham' 'ham' 'ham' ... 'ham' 'ham' 'ham']\n",
            "actual classes of test SMS messages\n",
            "['ham' 'ham' 'ham' ... 'ham' 'ham' 'ham']\n"
          ]
        }
      ],
      "source": [
        "import pandas as pd\n",
        "import numpy as np\n",
        "import math\n",
        "\n",
        "import matplotlib.pyplot as plt\n",
        "import seaborn as sns\n",
        "from sklearn.metrics import confusion_matrix, ConfusionMatrixDisplay\n",
        "\n",
        "# load datasets.\n",
        "data = pd.read_csv(\"/content/SMSSpamCollection\", sep='\\t', header=None)\n",
        "\n",
        "alphabet = ['a', 'b', 'c', 'd', 'e', 'f', 'g', 'h', 'i', 'j', 'k', 'l', 'm','n', 'o','p', 'q', 'r', 's', 't', 'u',\n",
        " 'v', 'w', 'x','y', 'z', '0', '1', '2', '3', '4', '5', '6', '7', '8', '9', ' ', '/', '?', '!', '.', 'α', 'β', 'γ']\n",
        "\n",
        "total_num_sms = len(data[0])\n",
        "\n",
        "# preprocess the data\n",
        "def data_preprocessing(sms):\n",
        "    # convert to lowercase.\n",
        "    sms = sms.lower()\n",
        "\n",
        "    # replace all unknow character to 'γ', where 'γ' is\n",
        "    # taken as replacement for unknown character.\n",
        "    sms = \"\".join([ c if c in alphabet else 'γ' for c in sms ])\n",
        "\n",
        "    # append start ('αα') and end ('ββ') symbols.\n",
        "    sms = 'α' + 'α' + sms + 'β' + 'β'\n",
        "\n",
        "    return sms\n",
        "\n",
        "for i in range(total_num_sms):\n",
        "    data[1][i] = data_preprocessing(data[1][i])\n",
        "\n",
        "# determine min and max indices of train data.\n",
        "train_min_index = 0\n",
        "train_max_index = int((total_num_sms * 60) / 100)\n",
        "\n",
        "# determine min and max indices of test data.\n",
        "test_min_index = train_max_index + 1\n",
        "test_max_index = total_num_sms\n",
        "\n",
        "# determine number of classes.\n",
        "num_classes = len(np.unique(data[0]))\n",
        "\n",
        "bigram_count_spam = dict()\n",
        "bigram_count_ham = dict()\n",
        "\n",
        "# count character bigram in ham and spam training dataset.\n",
        "def count_trainingset_bigram_spam_ham():\n",
        "    # first set bigram count to 0.\n",
        "    for first_char in alphabet:\n",
        "        for second_char in alphabet:\n",
        "            bigram = first_char + second_char\n",
        "            bigram_count_spam[bigram] = 0\n",
        "            bigram_count_ham[bigram] = 0\n",
        "\n",
        "    # count each bigram in training data.\n",
        "    for i in range(train_min_index, train_max_index):\n",
        "        sms = data[1][i]\n",
        "        if data[0][i] == \"spam\":\n",
        "            for char in range(len(sms) - 1):\n",
        "                bigram = sms[char] + sms[char + 1]\n",
        "                bigram_count_spam[bigram] = bigram_count_spam[bigram] + 1\n",
        "        else:\n",
        "            for char in range(len(sms) - 1):\n",
        "                bigram = sms[char] + sms[char + 1]\n",
        "                bigram_count_ham[bigram] = bigram_count_ham[bigram] + 1\n",
        "\n",
        "count_trainingset_bigram_spam_ham()\n",
        "\n",
        "trigram_count_spam = dict()\n",
        "trigram_count_ham = dict()\n",
        "\n",
        "# count character trigram in ham and spam training dataset.\n",
        "def count_trainingset_trigram_spam_ham():\n",
        "   # first set trigram count to 0.\n",
        "    for first_char in alphabet:\n",
        "        for second_char in alphabet:\n",
        "            for third_char in alphabet:\n",
        "                trigram = first_char + second_char + third_char\n",
        "                trigram_count_spam[trigram] = 0\n",
        "                trigram_count_ham[trigram] = 0\n",
        "\n",
        "     # count each trigram in training data.\n",
        "    for i in range(train_min_index, train_max_index):\n",
        "        sms = data[1][i]\n",
        "        if data[0][i] == \"spam\":\n",
        "            for char in range(len(sms) - 2):\n",
        "                trigram = sms[char] + sms[char + 1] + sms[char + 2]\n",
        "                trigram_count_spam[trigram] = trigram_count_spam[trigram] + 1\n",
        "        else:\n",
        "            for char in range(len(sms) - 2):\n",
        "                trigram = sms[char] + sms[char + 1] + sms[char + 2]\n",
        "                trigram_count_ham[trigram] = trigram_count_ham[trigram] + 1\n",
        "\n",
        "count_trainingset_trigram_spam_ham()\n",
        "\n",
        "# taking k as 0.5 for finding prediction.\n",
        "k = 0.5\n",
        "\n",
        "prob_trigram_ham = dict()\n",
        "prob_trigram_spam = dict()\n",
        "\n",
        "# determine probabilities of trigrams in training dataset.\n",
        "def prob_trigram_spam_ham():\n",
        "    for trigram, count in trigram_count_spam.items():\n",
        "        trigram_first_two_char = trigram[0] + trigram[1]\n",
        "        prob_trigram_spam[trigram] = (count + k) / (bigram_count_spam[trigram_first_two_char] + (k * len(alphabet)))\n",
        "\n",
        "    for trigram, count in trigram_count_ham.items():\n",
        "        trigram_first_two_char = trigram[0] + trigram[1]\n",
        "        prob_trigram_ham[trigram] = (count + k) / (bigram_count_ham[trigram_first_two_char] + (k * len(alphabet)))\n",
        "\n",
        "prob_trigram_spam_ham()\n",
        "\n",
        "# determine log probability of a test SMS message.\n",
        "# used log to eliminate arithmatic undeflow.\n",
        "def log_probability(x, spam_ham):\n",
        "    log_prob = 0\n",
        "    if spam_ham == \"spam\":\n",
        "        for char in range(len(x) - 2):\n",
        "            trigram = x[char] + x[char + 1] + x[char + 2]\n",
        "            log_prob = log_prob + math.log(prob_trigram_spam[trigram])\n",
        "    else:\n",
        "        for char in range(len(x) - 2):\n",
        "            trigram = x[char] + x[char + 1] + x[char + 2]\n",
        "            log_prob = log_prob + math.log(prob_trigram_ham[trigram])\n",
        "\n",
        "    return log_prob\n",
        "\n",
        "# predict the test SMS message for ham or spam.\n",
        "def predict(x):\n",
        "    spam_predict = log_probability(x, \"spam\")\n",
        "    ham_predict = log_probability(x, \"ham\")\n",
        "    \n",
        "    if spam_predict >= ham_predict:\n",
        "        return \"spam\"\n",
        "    else:\n",
        "        return \"ham\"\n",
        "\n",
        "# predict test SMS message in each row in the test dataset\n",
        "test_data_count = test_max_index - test_min_index\n",
        "predicted_classes = np.empty((test_data_count), dtype=\"<U10\")\n",
        "for n in range(test_min_index, test_max_index):\n",
        "    index = n - test_min_index\n",
        "    predicted_classes[index] = predict(data[1][n])\n",
        "\n",
        "print(\"predicted classes of test SMS messages\")\n",
        "print(predicted_classes)\n",
        "\n",
        "actual_classes = np.array(data[0])[test_min_index:test_max_index]\n",
        "print(\"actual classes of test SMS messages\")\n",
        "print(actual_classes)\n",
        "\n",
        "\n",
        "\n"
      ]
    },
    {
      "cell_type": "code",
      "execution_count": null,
      "metadata": {
        "colab": {
          "base_uri": "https://localhost:8080/"
        },
        "id": "coGIgrgvmSzR",
        "outputId": "540d8c60-ca28-473c-850d-a481ec8b4c59"
      },
      "outputs": [
        {
          "name": "stdout",
          "output_type": "stream",
          "text": [
            "[[1916   18]\n",
            " [  11  283]]\n"
          ]
        }
      ],
      "source": [
        "confusion_matrix = confusion_matrix(predicted_classes, actual_classes)\n",
        "print(confusion_matrix)\n",
        "con_matrix= confusion_matrix\n",
        "\n"
      ]
    },
    {
      "cell_type": "code",
      "execution_count": null,
      "metadata": {
        "colab": {
          "base_uri": "https://localhost:8080/"
        },
        "id": "8KD3ZbPrmYAY",
        "outputId": "2adef163-6025-44fb-b7b6-82e506950836"
      },
      "outputs": [
        {
          "name": "stdout",
          "output_type": "stream",
          "text": [
            "Accuracy: 0.9869838420107719\n"
          ]
        }
      ],
      "source": [
        "def diagonal_sum(con_matrix):\n",
        "  sum = 0\n",
        "  for i in range(2):\n",
        "    for j in range(2):\n",
        "      if i==j: sum+= con_matrix[i,j]\n",
        "  return sum\n",
        "dim = diagonal_sum(con_matrix)\n",
        "print(f'Accuracy: {dim/2228}')"
      ]
    },
    {
      "cell_type": "code",
      "execution_count": null,
      "metadata": {
        "colab": {
          "base_uri": "https://localhost:8080/",
          "height": 297
        },
        "id": "Y8MUPMkSmi7X",
        "outputId": "e9edca8f-e427-4560-a3aa-71fbed7fbdca"
      },
      "outputs": [
        {
          "data": {
            "text/plain": [
              "Text(69.0, 0.5, 'Predicted value')"
            ]
          },
          "execution_count": 11,
          "metadata": {},
          "output_type": "execute_result"
        },
        {
          "data": {
            "image/png": "[encoded data removed]",
            "text/plain": [
              "<Figure size 720x288 with 2 Axes>"
            ]
          },
          "metadata": {
            "needs_background": "light"
          },
          "output_type": "display_data"
        }
      ],
      "source": [
        "plt.figure(figsize=(10,4))\n",
        "ax = sns.heatmap(confusion_matrix, annot=True, fmt=\"d\", cmap=\"Greens\")\n",
        "plt.xlabel('Actual value')\n",
        "plt.ylabel('Predicted value')"
      ]
    },
    {
      "cell_type": "code",
      "execution_count": null,
      "metadata": {
        "colab": {
          "base_uri": "https://localhost:8080/"
        },
        "id": "q2WcKiesmmTe",
        "outputId": "9145c4a2-9fc2-49f1-cd95-0b1c238379be"
      },
      "outputs": [
        {
          "name": "stdout",
          "output_type": "stream",
          "text": [
            "              precision    recall  f1-score   support\n",
            "\n",
            "         ham   0.994292  0.990693  0.992489      1934\n",
            "        spam   0.940199  0.962585  0.951261       294\n",
            "\n",
            "    accuracy                       0.986984      2228\n",
            "   macro avg   0.967245  0.976639  0.971875      2228\n",
            "weighted avg   0.987154  0.986984  0.987049      2228\n",
            "\n"
          ]
        }
      ],
      "source": [
        "from sklearn.metrics import classification_report\n",
        "#predictions = nb_model.predict(x_test)\n",
        "print(classification_report(predicted_classes, actual_classes,digits = 6))"
      ]
    }
  ],
  "metadata": {
    "colab": {
      "provenance": []
    },
    "kernelspec": {
      "display_name": "Python 3",
      "name": "python3"
    },
    "language_info": {
      "name": "python"
    }
  },
  "nbformat": 4,
  "nbformat_minor": 0
}
